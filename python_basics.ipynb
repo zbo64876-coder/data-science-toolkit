{
  "cells": [
    {
      "cell_type": "markdown",
      "metadata": {
        "id": "view-in-github",
        "colab_type": "text"
      },
      "source": [
        "<a href=\"https://colab.research.google.com/github/zbo64876-coder/data-science-toolkit/blob/main/python_basics.ipynb\" target=\"_parent\"><img src=\"https://colab.research.google.com/assets/colab-badge.svg\" alt=\"Open In Colab\"/></a>"
      ]
    },
    {
      "cell_type": "markdown",
      "source": [
        "# 测试使用"
      ],
      "metadata": {
        "id": "lJeUFozYxMfg"
      }
    },
    {
      "cell_type": "markdown",
      "source": [
        "## Python"
      ],
      "metadata": {
        "id": "PC-fC2dg7C5K"
      }
    },
    {
      "cell_type": "code",
      "source": [],
      "metadata": {
        "id": "2j9uye8yAbCz"
      },
      "execution_count": null,
      "outputs": []
    },
    {
      "cell_type": "markdown",
      "source": [
        "1. Create a numpy array of size 2 x 2\n",
        "\n"
      ],
      "metadata": {
        "id": "LWaGPxpi7gce"
      }
    },
    {
      "cell_type": "code",
      "source": [
        "import numpy as np\n",
        "array_2x2 = np.array([[1, 2], [3, 4]])\n",
        "print(array_2x2)"
      ],
      "metadata": {
        "colab": {
          "base_uri": "https://localhost:8080/"
        },
        "id": "5rLNcn9X7t8h",
        "outputId": "b31d9cbf-be55-4d9a-ed80-487b7e02e625"
      },
      "execution_count": null,
      "outputs": [
        {
          "output_type": "stream",
          "name": "stdout",
          "text": [
            "[[1 2]\n",
            " [3 4]]\n"
          ]
        }
      ]
    },
    {
      "cell_type": "markdown",
      "source": [
        "2. Create a random numpy array of size 3 x 4\n"
      ],
      "metadata": {
        "id": "xP3Ae33r7kWS"
      }
    },
    {
      "cell_type": "code",
      "source": [
        "random_array_3x4 = np.random.rand(3, 4)\n",
        "print(random_array_3x4)"
      ],
      "metadata": {
        "colab": {
          "base_uri": "https://localhost:8080/"
        },
        "id": "ws0EAfIP8KE7",
        "outputId": "e661709b-ec29-4bb8-e5c7-c84007d6513c"
      },
      "execution_count": null,
      "outputs": [
        {
          "output_type": "stream",
          "name": "stdout",
          "text": [
            "[[0.54672335 0.14389866 0.16210246 0.80466997]\n",
            " [0.00952404 0.36152872 0.9509217  0.03451887]\n",
            " [0.67693599 0.37114966 0.6408202  0.98134897]]\n"
          ]
        }
      ]
    },
    {
      "cell_type": "markdown",
      "source": [
        "3. Create a numpy array of ones and a numpy array of zeroes\n"
      ],
      "metadata": {
        "id": "PGuJKOFO7koR"
      }
    },
    {
      "cell_type": "code",
      "source": [
        "ones_array = np.ones((2, 3))\n",
        "zeroes_array = np.zeros((3, 2))\n",
        "\n",
        "print(\"Array of ones:\")\n",
        "print(ones_array)\n",
        "print(\"\\nArray of zeroes:\")\n",
        "print(zeroes_array)"
      ],
      "metadata": {
        "colab": {
          "base_uri": "https://localhost:8080/"
        },
        "id": "Sx7IAnEo8e9_",
        "outputId": "4125ae21-3737-4e6d-a662-43187a164f5c"
      },
      "execution_count": null,
      "outputs": [
        {
          "output_type": "stream",
          "name": "stdout",
          "text": [
            "Array of ones:\n",
            "[[1. 1. 1.]\n",
            " [1. 1. 1.]]\n",
            "\n",
            "Array of zeroes:\n",
            "[[0. 0.]\n",
            " [0. 0.]\n",
            " [0. 0.]]\n"
          ]
        }
      ]
    },
    {
      "cell_type": "markdown",
      "source": [
        "4. Create a random numpy array of size 6x3 and transpose it\n"
      ],
      "metadata": {
        "id": "UpzADhKC7kps"
      }
    },
    {
      "cell_type": "code",
      "source": [
        "random_array_6x3 = np.random.rand(6, 3)\n",
        "transposed_array = random_array_6x3.T\n",
        "\n",
        "print(\"Original 6x3 array:\")\n",
        "print(random_array_6x3)\n",
        "print(\"\\nTransposed array:\")\n",
        "print(transposed_array)"
      ],
      "metadata": {
        "colab": {
          "base_uri": "https://localhost:8080/"
        },
        "id": "AFiYdcZG8y2T",
        "outputId": "a97441ef-ccb6-4c18-f4b9-4bb5bf8f310f"
      },
      "execution_count": null,
      "outputs": [
        {
          "output_type": "stream",
          "name": "stdout",
          "text": [
            "Original 6x3 array:\n",
            "[[0.83493114 0.13794665 0.40439291]\n",
            " [0.36782794 0.55322381 0.63422795]\n",
            " [0.99453359 0.75105215 0.55631895]\n",
            " [0.17135685 0.04285852 0.9529452 ]\n",
            " [0.68354688 0.0300591  0.15105293]\n",
            " [0.54078578 0.57982483 0.1098924 ]]\n",
            "\n",
            "Transposed array:\n",
            "[[0.83493114 0.36782794 0.99453359 0.17135685 0.68354688 0.54078578]\n",
            " [0.13794665 0.55322381 0.75105215 0.04285852 0.0300591  0.57982483]\n",
            " [0.40439291 0.63422795 0.55631895 0.9529452  0.15105293 0.1098924 ]]\n"
          ]
        }
      ]
    },
    {
      "cell_type": "markdown",
      "source": [
        "5. Create two random numpy array of size n x p and p x m and then compute the dot product"
      ],
      "metadata": {
        "id": "ebbrJNVK7k66"
      }
    },
    {
      "cell_type": "code",
      "source": [
        "n, p, m = 3, 4, 2\n",
        "array1 = np.random.rand(n, p)\n",
        "array2 = np.random.rand(p, m)\n",
        "\n",
        "dot_product = np.dot(array1, array2)\n",
        "\n",
        "print(\"Array 1 (n x p):\")\n",
        "print(array1)\n",
        "print(\"\\nArray 2 (p x m):\")\n",
        "print(array2)\n",
        "print(\"\\nDot product (n x m):\")\n",
        "print(dot_product)"
      ],
      "metadata": {
        "id": "mLx1IY73yuEH",
        "colab": {
          "base_uri": "https://localhost:8080/"
        },
        "outputId": "98a5e947-25c3-44fb-fbe3-c279f2c743ed"
      },
      "execution_count": null,
      "outputs": [
        {
          "output_type": "stream",
          "name": "stdout",
          "text": [
            "Array 1 (n x p):\n",
            "[[0.98848344 0.75527956 0.18873086 0.07496129]\n",
            " [0.91332235 0.93540395 0.28905159 0.98303067]\n",
            " [0.52208503 0.25100724 0.94949067 0.70807289]]\n",
            "\n",
            "Array 2 (p x m):\n",
            "[[0.02141912 0.71032784]\n",
            " [0.16609169 0.24636293]\n",
            " [0.95449634 0.40019275]\n",
            " [0.23653759 0.29279752]]\n",
            "\n",
            "Dot product (n x m):\n",
            "[[0.34449218 0.98569739]\n",
            " [0.68334777 1.28271244]\n",
            " [1.12664404 1.01999168]]\n"
          ]
        }
      ]
    },
    {
      "cell_type": "markdown",
      "source": [
        "## C++\n",
        "\n",
        "\n",
        "\n",
        "```\n",
        "# 此内容为代码格式\n",
        "#include <bits/stdc++.h>\n",
        "using namespace std;\n",
        "int main(){\n",
        "  cout<<\"Hello, World!\"<<endl;\n",
        "  return 0;\n",
        "}\n",
        "```\n",
        "\n"
      ],
      "metadata": {
        "id": "ELAO4S2EyAnQ"
      }
    }
  ],
  "metadata": {
    "colab": {
      "toc_visible": true,
      "provenance": [],
      "include_colab_link": true
    },
    "kernelspec": {
      "display_name": "Python 3",
      "name": "python3"
    }
  },
  "nbformat": 4,
  "nbformat_minor": 0
}